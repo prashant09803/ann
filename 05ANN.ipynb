{
 "cells": [
  {
   "cell_type": "code",
   "execution_count": 1,
   "id": "dc2ec313-d274-4d97-841c-582d173a5cc6",
   "metadata": {},
   "outputs": [],
   "source": [
    "import numpy as np"
   ]
  },
  {
   "cell_type": "code",
   "execution_count": 63,
   "id": "f7c004e7-ad93-4515-af75-ea470f73064f",
   "metadata": {},
   "outputs": [],
   "source": [
    "class BAM:\n",
    "    def __init__(self, input_size, output_size):\n",
    "        self.input_size = input_size\n",
    "        self.output_size = output_size\n",
    "        self.weights = np.zeros((input_size, output_size))\n",
    "\n",
    "    def train(self, input_patterns, output_patterns):\n",
    "        for input_pattern, output_pattern in zip(input_patterns, output_patterns):\n",
    "            self.weights += np.outer(input_pattern, output_pattern)\n",
    "\n",
    "    def recall(self, input_pattern):\n",
    "        output_pattern = np.dot(input_pattern, self.weights.T)\n",
    "        output_pattern[output_pattern >= 0] = 1\n",
    "        output_pattern[output_pattern < 0] = -1\n",
    "        return output_pattern\n"
   ]
  },
  {
   "cell_type": "markdown",
   "id": "c0fec531-cd8e-4c47-bff1-6be02729ffe3",
   "metadata": {},
   "source": [
    "**Example with two pairs of vectors**"
   ]
  },
  {
   "cell_type": "code",
   "execution_count": 64,
   "id": "fc62a327-303b-44d6-b0cc-174efa2b5fa9",
   "metadata": {},
   "outputs": [],
   "source": [
    "input_patterns = np.array([[1, -1], [1, 1]])\n",
    "output_patterns = np.array([[1, 1], [-1, 1]])"
   ]
  },
  {
   "cell_type": "markdown",
   "id": "e7c8068d-5eb3-4aec-976a-b63732442870",
   "metadata": {},
   "source": [
    "**Create and train the BAM**"
   ]
  },
  {
   "cell_type": "code",
   "execution_count": 65,
   "id": "374a26e0-3fe3-4b8d-a766-40297a7f6f5b",
   "metadata": {},
   "outputs": [],
   "source": [
    "bam = BAM(input_size=len(input_patterns[0]), output_size=len(output_patterns[0]))\n",
    "bam.train(input_patterns, output_patterns)"
   ]
  },
  {
   "cell_type": "markdown",
   "id": "72bf573e-88c3-4be3-8460-d56fe9ca4b24",
   "metadata": {},
   "source": [
    "**# Test recall**"
   ]
  },
  {
   "cell_type": "code",
   "execution_count": 66,
   "id": "1022d5c2-a896-43de-91e3-dacf20d2f31c",
   "metadata": {},
   "outputs": [],
   "source": [
    "test_input = np.array([1, -1])\n",
    "recalled_output = bam.recall(test_input)"
   ]
  },
  {
   "cell_type": "markdown",
   "id": "1d8478f7-f766-42ad-bc9e-94c5a266f5e8",
   "metadata": {},
   "source": [
    "**# Display results**"
   ]
  },
  {
   "cell_type": "code",
   "execution_count": 67,
   "id": "1c175e7e-fd36-41d7-8740-5033fed884f0",
   "metadata": {},
   "outputs": [
    {
     "name": "stdout",
     "output_type": "stream",
     "text": [
      "Input Pattern: [ 1 -1]\n",
      "Recalled Output Pattern: [-1. -1.]\n"
     ]
    }
   ],
   "source": [
    "print(\"Input Pattern:\", test_input)\n",
    "print(\"Recalled Output Pattern:\", recalled_output)"
   ]
  },
  {
   "cell_type": "code",
   "execution_count": null,
   "id": "ddf115e4-5794-4e63-ad5b-8a2a1e72d379",
   "metadata": {},
   "outputs": [],
   "source": []
  },
  {
   "cell_type": "code",
   "execution_count": null,
   "id": "110c5cec-81ec-4194-b438-ea9c7b6b1bc1",
   "metadata": {},
   "outputs": [],
   "source": []
  }
 ],
 "metadata": {
  "kernelspec": {
   "display_name": "Python 3 (ipykernel)",
   "language": "python",
   "name": "python3"
  },
  "language_info": {
   "codemirror_mode": {
    "name": "ipython",
    "version": 3
   },
   "file_extension": ".py",
   "mimetype": "text/x-python",
   "name": "python",
   "nbconvert_exporter": "python",
   "pygments_lexer": "ipython3",
   "version": "3.12.0"
  }
 },
 "nbformat": 4,
 "nbformat_minor": 5
}
