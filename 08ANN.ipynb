{
 "cells": [
  {
   "cell_type": "code",
   "execution_count": 1,
   "id": "1900bab3-102f-4e47-8564-c943352225dd",
   "metadata": {},
   "outputs": [],
   "source": [
    "x1 = [[1,1, 1, 1]];\n",
    "x2 = [[1,-1,-1, 1]];\n",
    "x3 = [[-1,1,-1,-1]];\n",
    "x4 = [[1,-1,-1,-1]];"
   ]
  },
  {
   "cell_type": "code",
   "execution_count": 2,
   "id": "204e0ea7-0026-4b72-b537-aa873adc9037",
   "metadata": {},
   "outputs": [
    {
     "name": "stdout",
     "output_type": "stream",
     "text": [
      "[[1]\n",
      " [1]\n",
      " [1]\n",
      " [1]]\n",
      "[[1 1 1 1]\n",
      " [1 1 1 1]\n",
      " [1 1 1 1]\n",
      " [1 1 1 1]]\n",
      "[[ 1]\n",
      " [-1]\n",
      " [-1]\n",
      " [ 1]]\n",
      "[[ 1 -1 -1  1]\n",
      " [-1  1  1 -1]\n",
      " [-1  1  1 -1]\n",
      " [ 1 -1 -1  1]]\n",
      "[[-1]\n",
      " [ 1]\n",
      " [-1]\n",
      " [-1]]\n",
      "[[ 1 -1  1  1]\n",
      " [-1  1 -1 -1]\n",
      " [ 1 -1  1  1]\n",
      " [ 1 -1  1  1]]\n",
      "[[ 1]\n",
      " [-1]\n",
      " [-1]\n",
      " [-1]]\n",
      "[[ 1 -1 -1 -1]\n",
      " [-1  1  1  1]\n",
      " [-1  1  1  1]\n",
      " [-1  1  1  1]]\n"
     ]
    }
   ],
   "source": [
    "import numpy as np\n",
    "# Transpose\n",
    "x11 = np.transpose(x1, axes = None)\n",
    "print(x11)\n",
    "w1 = x1*x11\n",
    "print(w1)\n",
    "x21 = np.transpose(x2, axes = None)\n",
    "print(x21)\n",
    "w2 = x2*x21\n",
    "print(w2)\n",
    "x31 = np.transpose(x3, axes = None)\n",
    "print(x31)\n",
    "w3 = x3*x31\n",
    "print(w3)\n",
    "x41 = np.transpose(x4, axes = None)\n",
    "print(x41)\n",
    "w4 = x4*x41\n",
    "print(w4)"
   ]
  },
  {
   "cell_type": "code",
   "execution_count": 3,
   "id": "11a881af-d311-49ff-8d2f-bf2bad0ac459",
   "metadata": {},
   "outputs": [
    {
     "name": "stdout",
     "output_type": "stream",
     "text": [
      "[[ 4 -2  0  2]\n",
      " [-2  4  2  0]\n",
      " [ 0  2  4  2]\n",
      " [ 2  0  2  4]]\n"
     ]
    }
   ],
   "source": [
    "W = w1+w2+w3+w4\n",
    "print(W)"
   ]
  },
  {
   "cell_type": "code",
   "execution_count": 4,
   "id": "b44271d8-7515-4122-91b2-d1e3b648ce3b",
   "metadata": {},
   "outputs": [
    {
     "data": {
      "text/plain": [
       "array([[4, 4, 8, 8]])"
      ]
     },
     "execution_count": 4,
     "metadata": {},
     "output_type": "execute_result"
    }
   ],
   "source": [
    "np.dot(x1,W)"
   ]
  },
  {
   "cell_type": "code",
   "execution_count": 5,
   "id": "4d4dce9c-180c-46cb-80bf-a798dd6a6bd4",
   "metadata": {},
   "outputs": [],
   "source": [
    "def make_diagonal_zero(matrix):\n",
    "    for i in range(min(len(matrix), len(matrix[0]))):\n",
    "        matrix[i][i] = 0\n",
    "    return matrix"
   ]
  },
  {
   "cell_type": "code",
   "execution_count": 6,
   "id": "ea85a9aa-6c4c-497c-84ed-e289ee536097",
   "metadata": {},
   "outputs": [
    {
     "name": "stdout",
     "output_type": "stream",
     "text": [
      "[[ 0 -2  0  2]\n",
      " [-2  0  2  0]\n",
      " [ 0  2  0  2]\n",
      " [ 2  0  2  0]]\n"
     ]
    }
   ],
   "source": [
    "W_rev = make_diagonal_zero(W)\n",
    "print(W_rev)"
   ]
  },
  {
   "cell_type": "code",
   "execution_count": 7,
   "id": "0f4be930-85b0-4154-8d9c-bf27ce6605b4",
   "metadata": {},
   "outputs": [
    {
     "name": "stdout",
     "output_type": "stream",
     "text": [
      "[[ 0 -2  0  2]\n",
      " [-2  0  2  0]\n",
      " [ 0  2  0  2]\n",
      " [ 2  0  2  0]]\n"
     ]
    }
   ],
   "source": [
    "print(W)"
   ]
  },
  {
   "cell_type": "code",
   "execution_count": 8,
   "id": "f22095d6-140f-4204-a073-ef9bf6f1827e",
   "metadata": {},
   "outputs": [
    {
     "name": "stdout",
     "output_type": "stream",
     "text": [
      "[[0 0 4 4]]\n"
     ]
    }
   ],
   "source": [
    "# testing of the Hopfield vectors\n",
    "xt1 = np.dot(x1,W_rev)\n",
    "print(xt1)"
   ]
  },
  {
   "cell_type": "code",
   "execution_count": 9,
   "id": "0e01c213-d353-4da6-9c14-5d0a7bcb92ab",
   "metadata": {},
   "outputs": [],
   "source": [
    "def activate(x, theta=0):\n",
    "    return np.where(x>theta, 1, np.where(x == theta, x, 0))"
   ]
  },
  {
   "cell_type": "code",
   "execution_count": 10,
   "id": "f8fd65c7-8146-4830-8032-93a9b2b58308",
   "metadata": {},
   "outputs": [
    {
     "name": "stdout",
     "output_type": "stream",
     "text": [
      "[[0 0 1 1]]\n"
     ]
    }
   ],
   "source": [
    "xt1_act = activate(xt1)\n",
    "print(xt1_act)"
   ]
  },
  {
   "cell_type": "code",
   "execution_count": 11,
   "id": "ed490032-f627-4363-a5fe-7d0c471fecbf",
   "metadata": {},
   "outputs": [
    {
     "name": "stdout",
     "output_type": "stream",
     "text": [
      "testing failed\n"
     ]
    }
   ],
   "source": [
    "if(np.array_equal(x1, xt1_act)):\n",
    "  print(\"testing complete\")\n",
    "else: print(\"testing failed\")"
   ]
  },
  {
   "cell_type": "code",
   "execution_count": null,
   "id": "efe0731c-d50a-4d4b-a2ed-71f947e49657",
   "metadata": {},
   "outputs": [],
   "source": []
  }
 ],
 "metadata": {
  "kernelspec": {
   "display_name": "Python 3 (ipykernel)",
   "language": "python",
   "name": "python3"
  },
  "language_info": {
   "codemirror_mode": {
    "name": "ipython",
    "version": 3
   },
   "file_extension": ".py",
   "mimetype": "text/x-python",
   "name": "python",
   "nbconvert_exporter": "python",
   "pygments_lexer": "ipython3",
   "version": "3.12.0"
  }
 },
 "nbformat": 4,
 "nbformat_minor": 5
}
