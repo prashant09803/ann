{
 "cells": [
  {
   "cell_type": "code",
   "execution_count": 3,
   "id": "fa4fd182-1174-4da2-b077-251b90d3cd82",
   "metadata": {},
   "outputs": [],
   "source": [
    "import numpy as np"
   ]
  },
  {
   "cell_type": "code",
   "execution_count": 4,
   "id": "152bfd28-5306-4375-9c03-65f90f9c2db4",
   "metadata": {},
   "outputs": [],
   "source": [
    "def to_binary(num):\n",
    "    temp = []\n",
    "    while(num):\n",
    "        temp.append(num%2)\n",
    "        num = int(num/2)\n",
    "    return temp[::-1]\n",
    "#to_binary(987) #binary of 987 = 1111011011"
   ]
  },
  {
   "cell_type": "markdown",
   "id": "76e07d5b-18d8-43f1-ae31-c43b295a1c4f",
   "metadata": {},
   "source": [
    "**Getting input vectors**"
   ]
  },
  {
   "cell_type": "code",
   "execution_count": 5,
   "id": "63768cfc-3f95-4971-b1e8-35415b093c74",
   "metadata": {},
   "outputs": [
    {
     "data": {
      "text/plain": [
       "array([[1, 1, 0, 0, 0, 0],\n",
       "       [1, 1, 0, 0, 0, 1],\n",
       "       [1, 1, 0, 0, 1, 0],\n",
       "       [1, 1, 0, 0, 1, 1],\n",
       "       [1, 1, 0, 1, 0, 0],\n",
       "       [1, 1, 0, 1, 0, 1],\n",
       "       [1, 1, 0, 1, 1, 0],\n",
       "       [1, 1, 0, 1, 1, 1],\n",
       "       [1, 1, 1, 0, 0, 0],\n",
       "       [1, 1, 1, 0, 0, 1]])"
      ]
     },
     "execution_count": 5,
     "metadata": {},
     "output_type": "execute_result"
    }
   ],
   "source": [
    "x=[]\n",
    "for item in '0123456789':\n",
    "    ascii_value = ord(item)\n",
    "    x.append(to_binary(ascii_value))\n",
    "    \n",
    "x = np.array(x)\n",
    "x"
   ]
  },
  {
   "cell_type": "markdown",
   "id": "a3ba7c11-ca09-485a-94fe-e37e58431973",
   "metadata": {},
   "source": [
    "**Output Vector**"
   ]
  },
  {
   "cell_type": "code",
   "execution_count": 6,
   "id": "f1e0b940-c70b-4046-a35c-d1f0f6c46f94",
   "metadata": {},
   "outputs": [
    {
     "data": {
      "text/plain": [
       "(1, -1, 1, -1, 1, -1, 1, -1, 1, -1)"
      ]
     },
     "execution_count": 6,
     "metadata": {},
     "output_type": "execute_result"
    }
   ],
   "source": [
    "t = (1,-1,1,-1,1,-1,1,-1,1,-1)\n",
    "t"
   ]
  },
  {
   "cell_type": "markdown",
   "id": "cebbb036-9115-42be-a6c9-137e1cb89702",
   "metadata": {},
   "source": [
    "**Weight Vector**"
   ]
  },
  {
   "cell_type": "code",
   "execution_count": 7,
   "id": "4d57a0f5-d32a-4fc4-bc02-ac83b058f044",
   "metadata": {},
   "outputs": [
    {
     "data": {
      "text/plain": [
       "array([1., 1., 1., 1., 1., 1.])"
      ]
     },
     "execution_count": 7,
     "metadata": {},
     "output_type": "execute_result"
    }
   ],
   "source": [
    "wts = np.ones(6)\n",
    "wts"
   ]
  },
  {
   "cell_type": "markdown",
   "id": "c961d953-cf41-4cce-a264-c1ec29d31d3f",
   "metadata": {},
   "source": [
    "**Theta and Alpha (learning rate)**"
   ]
  },
  {
   "cell_type": "code",
   "execution_count": 8,
   "id": "72d05d91-838d-4d99-a210-56e9eefb9ab1",
   "metadata": {},
   "outputs": [],
   "source": [
    "theta = 0.2\n",
    "lr = 1"
   ]
  },
  {
   "cell_type": "markdown",
   "id": "31c569cb-97c5-436c-8e66-326af1d47f8e",
   "metadata": {},
   "source": [
    "**Activation Function**"
   ]
  },
  {
   "cell_type": "code",
   "execution_count": 9,
   "id": "823e815e-c80d-44cc-8b09-6735f04aafa6",
   "metadata": {},
   "outputs": [],
   "source": [
    "def calcY(y):\n",
    "    if y>=theta:return 1\n",
    "    else: return -1"
   ]
  },
  {
   "cell_type": "markdown",
   "id": "18712f2c-b95d-41b3-98af-49680f38ff5c",
   "metadata": {},
   "source": [
    "**Weight Update Function**"
   ]
  },
  {
   "cell_type": "code",
   "execution_count": 10,
   "id": "e6a91b9e-a8a1-49ad-8e9d-5994386bd55b",
   "metadata": {},
   "outputs": [],
   "source": [
    "def weight_update(w,t,x):\n",
    "    for i in range(6):\n",
    "        w[i] = w[i] + (lr * t * x[i])\n",
    "    #print(w)"
   ]
  },
  {
   "cell_type": "markdown",
   "id": "c01ad061-a08b-48fb-b613-d20c89cc2078",
   "metadata": {},
   "source": [
    "**Model Building**"
   ]
  },
  {
   "cell_type": "code",
   "execution_count": 11,
   "id": "51203cac-2bc6-4a25-81ec-586372d1c5b5",
   "metadata": {},
   "outputs": [],
   "source": [
    "epoch = 0\n",
    "\n",
    "while(epoch != 10):\n",
    "    for i in range(10):\n",
    "        Y_in = 0\n",
    "        \n",
    "        for j in range(6):\n",
    "            Y_in = Y_in + x[i][j] * wts[j]\n",
    "            \n",
    "        Y_calc = calcY(Y_in)\n",
    "\n",
    "        if Y_calc != t[i]:\n",
    "            weight_update(wts,t[i],x[i])\n",
    "        else:\n",
    "            pass\n",
    "    epoch += 1"
   ]
  },
  {
   "cell_type": "markdown",
   "id": "594ef086-23d9-45fd-a832-dbc20510dc3b",
   "metadata": {},
   "source": [
    "**Printing Final Weights**"
   ]
  },
  {
   "cell_type": "code",
   "execution_count": 12,
   "id": "a18e11cd-146d-48eb-b55c-fa061020d1bb",
   "metadata": {},
   "outputs": [
    {
     "name": "stdout",
     "output_type": "stream",
     "text": [
      "[ 1.  1.  1.  1.  0. -4.]\n"
     ]
    }
   ],
   "source": [
    "print(wts)"
   ]
  },
  {
   "cell_type": "markdown",
   "id": "4e83ccdc-3cf2-4708-b5d0-64c894ec4a29",
   "metadata": {},
   "source": [
    "**Test cases**"
   ]
  },
  {
   "cell_type": "code",
   "execution_count": 13,
   "id": "1e2143cf-9d00-4536-9eba-ecf9d09c8e18",
   "metadata": {},
   "outputs": [],
   "source": [
    "def evenOdd(x):\n",
    "    temp = to_binary(ord(x))\n",
    "    y_in = 0\n",
    "    for i in range(6):\n",
    "        y_in += temp[i] * wts[i]\n",
    "    \n",
    "    if(calcY(y_in) == 1):\n",
    "        print(\"even\")\n",
    "        return\n",
    "    else:\n",
    "        print(\"odd\")"
   ]
  },
  {
   "cell_type": "code",
   "execution_count": 14,
   "id": "d4e420d7-fe73-4ac0-98b7-b9a1f3c4c293",
   "metadata": {},
   "outputs": [
    {
     "name": "stdout",
     "output_type": "stream",
     "text": [
      "odd\n"
     ]
    }
   ],
   "source": [
    "evenOdd('3')"
   ]
  },
  {
   "cell_type": "code",
   "execution_count": 15,
   "id": "d6570960-a4d5-46ea-a415-ee04787024f3",
   "metadata": {},
   "outputs": [
    {
     "name": "stdout",
     "output_type": "stream",
     "text": [
      "even\n"
     ]
    }
   ],
   "source": [
    "evenOdd('6')"
   ]
  },
  {
   "cell_type": "code",
   "execution_count": 16,
   "id": "fdd25879-2b8b-48ef-8633-48ba79466736",
   "metadata": {},
   "outputs": [
    {
     "name": "stdout",
     "output_type": "stream",
     "text": [
      "odd\n"
     ]
    }
   ],
   "source": [
    "evenOdd('9')"
   ]
  },
  {
   "cell_type": "code",
   "execution_count": null,
   "id": "48e515bd-1d2a-4dda-8310-d1a89860ff38",
   "metadata": {},
   "outputs": [],
   "source": []
  }
 ],
 "metadata": {
  "kernelspec": {
   "display_name": "Python 3 (ipykernel)",
   "language": "python",
   "name": "python3"
  },
  "language_info": {
   "codemirror_mode": {
    "name": "ipython",
    "version": 3
   },
   "file_extension": ".py",
   "mimetype": "text/x-python",
   "name": "python",
   "nbconvert_exporter": "python",
   "pygments_lexer": "ipython3",
   "version": "3.12.0"
  }
 },
 "nbformat": 4,
 "nbformat_minor": 5
}
