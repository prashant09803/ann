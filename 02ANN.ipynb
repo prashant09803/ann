{
 "cells": [
  {
   "cell_type": "code",
   "execution_count": 1,
   "id": "b2281e49-e386-4792-a447-37f141cf08e3",
   "metadata": {},
   "outputs": [
    {
     "name": "stdout",
     "output_type": "stream",
     "text": [
      "ANDNOT function output: [0, 0, 1, 0]\n"
     ]
    }
   ],
   "source": [
    "def mcculloch_pitts_andnot(x1, x2):\n",
    "    # Define weights and threshold\n",
    "    w1 = 1\n",
    "    w2 = -1\n",
    "    theta = (2*1)-1 #nw-p\n",
    "\n",
    "    # Calculate the weighted sum\n",
    "    yin = x1 * w1 + x2 * w2\n",
    "\n",
    "    # Activation function\n",
    "    if yin >= theta:\n",
    "        return 1\n",
    "    else:\n",
    "        return 0\n",
    "\n",
    "# Input values\n",
    "x1_values = [0, 0, 1, 1]\n",
    "x2_values = [0, 1, 0, 1]\n",
    "\n",
    "# Compute ANDNOT function\n",
    "output_values = [mcculloch_pitts_andnot(x1, x2) for x1, x2 in zip(x1_values, x2_values)]\n",
    "\n",
    "# Display the output\n",
    "print(\"ANDNOT function output:\", output_values)"
   ]
  },
  {
   "cell_type": "code",
   "execution_count": null,
   "id": "0add01aa-6240-4287-839e-0b906a7c3529",
   "metadata": {},
   "outputs": [],
   "source": []
  }
 ],
 "metadata": {
  "kernelspec": {
   "display_name": "Python 3 (ipykernel)",
   "language": "python",
   "name": "python3"
  },
  "language_info": {
   "codemirror_mode": {
    "name": "ipython",
    "version": 3
   },
   "file_extension": ".py",
   "mimetype": "text/x-python",
   "name": "python",
   "nbconvert_exporter": "python",
   "pygments_lexer": "ipython3",
   "version": "3.12.0"
  }
 },
 "nbformat": 4,
 "nbformat_minor": 5
}
